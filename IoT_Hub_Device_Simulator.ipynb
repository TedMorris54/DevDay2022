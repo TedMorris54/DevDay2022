{
  "cells": [
    {
      "cell_type": "markdown",
      "id": "bVIxshTROW4T",
      "metadata": {
        "id": "bVIxshTROW4T"
      },
      "source": [
        "# Setup Instructions\n",
        "1. Upload '25hz_down_sampled.csv' to the sample_data directory\n",
        "2. Upgrade the ipython kernel to support asyncio (note you will see an error and a warning; don't worry, for what we are doing all is well)\n",
        "3. Restart the runtime using the button that comes up in the pip output\n",
        "4. Install the azure-iot-device package"
      ]
    },
    {
      "cell_type": "code",
      "execution_count": null,
      "id": "zItP5QE6sF6e",
      "metadata": {
        "id": "zItP5QE6sF6e"
      },
      "outputs": [],
      "source": [
        "%pip install ipython ipykernel --upgrade"
      ]
    },
    {
      "cell_type": "code",
      "execution_count": null,
      "id": "pS1sWMy_rUrS",
      "metadata": {
        "id": "pS1sWMy_rUrS"
      },
      "outputs": [],
      "source": [
        "%pip install azure-iot-device"
      ]
    },
    {
      "cell_type": "markdown",
      "id": "a766d975-aa05-4b4d-8dd0-3dad71ccf096",
      "metadata": {
        "id": "a766d975-aa05-4b4d-8dd0-3dad71ccf096"
      },
      "source": [
        "# Azure IoT Hub Device Simulator\n",
        "\n",
        "Azure documentation: https://docs.microsoft.com/en-us/samples/azure-samples/azure-iot-samples-python/azure-iot-samples-for-python/\n"
      ]
    },
    {
      "cell_type": "markdown",
      "id": "eb46290c-1965-479f-b751-a54805ed3447",
      "metadata": {
        "id": "eb46290c-1965-479f-b751-a54805ed3447"
      },
      "source": [
        "## IoT Hub Message Structure\n",
        "\n",
        "The content of the message we send is referred to as the 'payload.'  While IoT Hub doesn't care what the message structure is, SAS Intelligent Monitoring does.  The message structure must be consistent with the definition in our SAS Intelligent Monitoring configuration.\n",
        "\n",
        "Our data is defined as: \n",
        "<ul>\n",
        "    <li>varId3 = {Temperature in Celsius}</li>\n",
        "    <li>varId4 = {X-motion}</li>\n",
        "    <li>varId5 = {Y-motion}</li> \n",
        "    <li>varId6 = {Z-motion}</li>\n",
        "\n",
        "```\n",
        "{\n",
        "    \"telemetryDataList\": [\n",
        "      {\n",
        "        \"varId\": \"3\",\n",
        "        \"devId\": \"202801\",\n",
        "        \"dateTime\": \"Jan 27, 2022 06:44:12 PM\",\n",
        "        \"value\": \"88.3\"\n",
        "      },\n",
        "      {\n",
        "        \"varId\": \"4\",\n",
        "        \"devId\": \"202801\",\n",
        "        \"dateTime\": \"Jan 27, 2022 06:44:12 PM\",\n",
        "        \"value\": \"-0.17123\"\n",
        "      },\n",
        "      {\n",
        "        \"varId\": \"5\",\n",
        "        \"devId\": \"202801\",\n",
        "        \"dateTime\": \"Jan 27, 2022 06:44:12 PM\",\n",
        "        \"value\": \"0.04351\"\n",
        "      }\n",
        "      {\n",
        "        \"varId\": \"6\",\n",
        "        \"devId\": \"202801\",\n",
        "        \"dateTime\": \"Jan 27, 2022 06:44:12 PM\",\n",
        "        \"value\": \"-0.58459\"\n",
        "      }\n",
        "    ],\n",
        "  }\n",
        "\n",
        "```"
      ]
    },
    {
      "cell_type": "markdown",
      "id": "zCaE5lzEyMqU",
      "metadata": {
        "id": "zCaE5lzEyMqU"
      },
      "source": [
        "# The Code"
      ]
    },
    {
      "cell_type": "code",
      "execution_count": 1,
      "id": "2e69bd11-467b-470a-9f65-516f138e4520",
      "metadata": {
        "id": "2e69bd11-467b-470a-9f65-516f138e4520"
      },
      "outputs": [],
      "source": [
        "import os\n",
        "import asyncio\n",
        "from azure.iot.device.aio import IoTHubDeviceClient\n",
        "import json\n",
        "from time import sleep\n",
        "from datetime import datetime\n",
        "\n",
        "import csv\n",
        "import time\n",
        "import pytz\n",
        "import random\n",
        "\n",
        "# In a live environment, this should be loaded from an environment variable, not code\n",
        "CONN_STR_202801=''"
      ]
    },
    {
      "cell_type": "markdown",
      "id": "678_bzyJR4fg",
      "metadata": {
        "id": "678_bzyJR4fg"
      },
      "source": [
        "### Configure your virtual device\n",
        "1. Assign your device ID to  ```MY_DEVICE_ID``` \n",
        "2. Change ```CONN_STRING_202801``` to end with your device ID\n",
        "3. Double check that you uploaded the data file ```25hz_down_sampled.csv``` to the ```sample_data``` directory"
      ]
    },
    {
      "cell_type": "code",
      "execution_count": 2,
      "id": "1ToWN9wjRXTj",
      "metadata": {
        "id": "1ToWN9wjRXTj"
      },
      "outputs": [],
      "source": [
        "DATA_FILE='sample_data/25hz_down_sampled.csv'\n",
        "\n",
        "MY_DEVICE_ID='20801'\n",
        "MY_CONN_STRING = CONN_STR_202801"
      ]
    },
    {
      "cell_type": "code",
      "execution_count": 3,
      "id": "97360014-40eb-42a4-b8ea-c79f2bb75649",
      "metadata": {
        "id": "97360014-40eb-42a4-b8ea-c79f2bb75649"
      },
      "outputs": [],
      "source": [
        "#Utilities\n",
        "\n",
        "def UTC_now_string(decimal_digits):\n",
        "    decimal_places = -6+decimal_digits if decimal_digits <=6 and decimal_digits >= 1 else -7\n",
        "    return( datetime.now().strftime(\"%Y-%m-%d %H:%M:%S.%f\")[:decimal_places] )\n",
        "\n",
        "\n",
        "def build_json_msg(dataVals, devId, dateTime=None):\n",
        "    dt = UTC_now_string(0) if dateTime is None else dateTime\n",
        "    dataList=[]\n",
        "    for n,val in enumerate(dataVals):\n",
        "        dataList.append({\n",
        "                            \"varId\" : str(n+2),\n",
        "                            \"devId\" : devId,\n",
        "                            \"dateTime\" : dt,\n",
        "                            \"value\" : val,\n",
        "                        }\n",
        "        )\n",
        "    return( {\"telemetrydataList\" : dataList } )"
      ]
    },
    {
      "cell_type": "markdown",
      "id": "gJgzVLx_U1_E",
      "metadata": {
        "id": "gJgzVLx_U1_E"
      },
      "source": [
        "### The IoT Device Simulator class"
      ]
    },
    {
      "cell_type": "code",
      "execution_count": 6,
      "id": "5387a3ee-3f39-4b82-a0e9-69d9b2c33092",
      "metadata": {
        "id": "5387a3ee-3f39-4b82-a0e9-69d9b2c33092"
      },
      "outputs": [],
      "source": [
        "class IoT_Device_Sim():\n",
        "    csv_file=None\n",
        "    csv_reader=None\n",
        "    file_path=None\n",
        "    _device_Id=None\n",
        "    _conn_str=None\n",
        "    _device_client=None\n",
        "    _force_alerts=False\n",
        "    \n",
        "    def __init__(self, device_Id, connection_string, path_to_data_file=None, ):\n",
        "        self._device_Id=device_Id\n",
        "        self._conn_str=connection_string\n",
        "        self.file_path = path_to_data_file\n",
        "        self.open_data_file()\n",
        "        \n",
        "    # Azure IoTHub Device Client calls\n",
        "    async def connect(self):\n",
        "        if self._conn_str is not None:\n",
        "            self._device_client = IoTHubDeviceClient.create_from_connection_string(self._conn_str)\n",
        "        await self._device_client.connect()\n",
        "        print(\"Device Simulator {a} Connected\".format(a=self._device_Id))\n",
        "            \n",
        "    async def send_message(self, msg):\n",
        "        print(\"Sending message: \" + msg)\n",
        "        await self._device_client.send_message(msg)\n",
        "                                 \n",
        "    async def disconnect(self):\n",
        "        await self._device_client.disconnect()    \n",
        "    \n",
        "    \n",
        "    # For getting device data from a file\n",
        "    def open_data_file(self):\n",
        "        if self.file_path is not None:\n",
        "            try:\n",
        "                self.csv_file=open(self.file_path, 'r')\n",
        "            except OSError as err:\n",
        "                print(err)\n",
        "                self.csv_file=None\n",
        "            else:\n",
        "                print( 'Using ' + self.file_path + ' as data source')\n",
        "                self.csv_reader=(csv.reader(self.csv_file))\n",
        "            \n",
        "    def get_reading(self):\n",
        "        if self.csv_reader is None:\n",
        "            return( None )\n",
        "        else:\n",
        "            row = next(self.csv_reader)\n",
        "            ts, date_time, _, _, _, temp, _, x, y, z = row\n",
        "            if self._force_alerts:\n",
        "              temp=random.randrange(900,980,1) / 10\n",
        "            #print( ts, temp, x, y, z )\n",
        "            data = self.build_SAS_json( datetime.timestamp(datetime.now()), UTC_now_string(0), temp, x, y, z, self._device_Id )\n",
        "            return( data )\n",
        "        \n",
        "    def build_SAS_json( self,ts, date_time, temp, x, y, z, device_Id ):\n",
        "        t_list=[]\n",
        "        vals = [temp, x, y, z]           \n",
        "        for i in range(1,5):\n",
        "            t_list.append( {'devId' : device_Id,\n",
        "                            'varId' : str(i+2),\n",
        "                            'dateTime' : date_time,\n",
        "                            'value' : vals[i-1]\n",
        "                           }\n",
        "                         )\n",
        "        json_str = json.dumps({'telemetryDataList' : t_list})\n",
        "        return( json_str )\n",
        "    \n",
        "    async def run(self, duration_seconds=120, wait_interval_seconds=30):\n",
        "        for i in range(0, duration_seconds+1, wait_interval_seconds):\n",
        "            time.sleep(wait_interval_seconds)\n",
        "            reading = (self.get_reading())\n",
        "            #print(reading)\n",
        "            if reading is None:\n",
        "                self.reset()\n",
        "                pass\n",
        "            else:\n",
        "                await self.send_message(reading)\n",
        "    \n",
        "    def force_alerts(self, set=True):\n",
        "      self._force_alerts=set\n",
        "\n",
        "    def reset(self):\n",
        "        if self.csv_file is not None:\n",
        "            self.csv_file.seek(0)\n",
        "    \n",
        "    async def stop(self):\n",
        "        await self.disconnect()"
      ]
    },
    {
      "cell_type": "markdown",
      "id": "58mGimYLUKDd",
      "metadata": {
        "id": "58mGimYLUKDd"
      },
      "source": [
        "### Create, connect, and run the device simulator\n",
        "To force alerts to be generated, uncomment the second line in the cell below."
      ]
    },
    {
      "cell_type": "code",
      "execution_count": null,
      "id": "f735fcee-de23-4397-8e1f-0060135d15c4",
      "metadata": {
        "id": "f735fcee-de23-4397-8e1f-0060135d15c4"
      },
      "outputs": [],
      "source": [
        "my_device=IoT_Device_Sim(MY_DEVICE_ID,MY_CONN_STRING,DATA_FILE)\n",
        "#my_device.force_alerts(set=True)\n",
        "await my_device.connect()\n",
        "\n",
        "await my_device.run(60, 10)"
      ]
    },
    {
      "cell_type": "code",
      "execution_count": null,
      "id": "62babdd5-7c3c-4746-b0e4-51fe678488f4",
      "metadata": {
        "id": "62babdd5-7c3c-4746-b0e4-51fe678488f4"
      },
      "outputs": [],
      "source": [
        "await my_device.run(20, 5)"
      ]
    },
    {
      "cell_type": "markdown",
      "id": "t6Yt2fg1Udj1",
      "metadata": {
        "id": "t6Yt2fg1Udj1"
      },
      "source": [
        "### Shut down the device sumulator\n",
        "Housekeeping to release resources used by the simulator"
      ]
    },
    {
      "cell_type": "code",
      "execution_count": 8,
      "id": "55af4ddc-e540-4d5b-a103-abdc28a54914",
      "metadata": {
        "id": "55af4ddc-e540-4d5b-a103-abdc28a54914"
      },
      "outputs": [],
      "source": [
        "await my_device.stop()\n",
        "\n"
      ]
    },
    {
      "cell_type": "code",
      "execution_count": null,
      "id": "EH6LJClBY7cb",
      "metadata": {
        "id": "EH6LJClBY7cb"
      },
      "outputs": [],
      "source": []
    }
  ],
  "metadata": {
    "colab": {
      "collapsed_sections": [],
      "name": "IoT_Hub_Device_Simulator.ipynb",
      "provenance": []
    },
    "kernelspec": {
      "display_name": "Python 3 (ipykernel)",
      "language": "python",
      "name": "python3"
    },
    "language_info": {
      "codemirror_mode": {
        "name": "ipython",
        "version": 3
      },
      "file_extension": ".py",
      "mimetype": "text/x-python",
      "name": "python",
      "nbconvert_exporter": "python",
      "pygments_lexer": "ipython3",
      "version": "3.9.7"
    }
  },
  "nbformat": 4,
  "nbformat_minor": 5
}
